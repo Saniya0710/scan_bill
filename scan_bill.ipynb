{
 "cells": [
  {
   "cell_type": "code",
   "execution_count": 24,
   "id": "810be162",
   "metadata": {},
   "outputs": [],
   "source": [
    "import pytesseract\n",
    "import cv2\n",
    "import difflib\n",
    "import pandas as pd\n",
    "import os\n",
    "import tkinter as tk\n",
    "from tkinter import *\n",
    "import re"
   ]
  },
  {
   "cell_type": "code",
   "execution_count": 2,
   "id": "a27b9c8a",
   "metadata": {},
   "outputs": [
    {
     "name": "stdout",
     "output_type": "stream",
     "text": [
      "ph326051246/26145398\n",
      "tins27620241762\n",
      "cash/bill\n",
      "\n",
      "ho 009742 0 fip 0 09-07-2015\n",
      "\n",
      " \n",
      "\n",
      " \n",
      "\n",
      "description qty rate amount\n",
      "ee\n",
      "petrol 3-990 7518 300.00\n",
      "\n",
      "cash 300-00\n",
      "thark yous.. visit agaih\n",
      "\n",
      "vv tin!276302417620\n",
      "\n",
      "ci 07:27:58 h/c ko. 9\n"
     ]
    }
   ],
   "source": [
    "def cleanup_text(text):\n",
    "    return \"\".join([c if ord(c) < 128 else \"\" for c in text]).strip()\n",
    "\n",
    "def convert_lower(text):\n",
    "    return text.lower()\n",
    "\n",
    "image = cv2.imread(\"/home/ravindra/Documents/project/assets/list.png\")\n",
    "image = cv2.cvtColor(image, cv2.COLOR_BGR2RGB)\n",
    "# use Tesseract to OCR the image\n",
    "text = pytesseract.image_to_string(image)\n",
    "cleaned_text = cleanup_text(text)\n",
    "final_text = str(convert_lower(cleaned_text))\n",
    "\n",
    "print(final_text)\n"
   ]
  },
  {
   "cell_type": "code",
   "execution_count": 16,
   "id": "73c64a8b",
   "metadata": {},
   "outputs": [
    {
     "data": {
      "text/plain": [
       "'petrol'"
      ]
     },
     "execution_count": 16,
     "metadata": {},
     "output_type": "execute_result"
    }
   ],
   "source": [
    "def lst_numbers(final_text):\n",
    "    l = final_text.split()\n",
    "    lst_num = []\n",
    "    for line in l:\n",
    "        lst_num.append(\"\".join(re.findall(r'[-+]?\\d*\\.\\d+|\\d+', line)))\n",
    "\n",
    "    lst_num = list(filter(None, lst_num))\n",
    "    return lst_num\n",
    "\n",
    "\n",
    "def get_category(final_text):\n",
    "    Categories = ['shopping', 'stationary','petrol','tax','medical','Electricity','Dish' , 'Stores','Tax', 'Bakery','Furniture', 'Grocery','Electrical Instruments', 'Food Items','Vegetable Market', 'Jewellery','Super Market', 'Garments','Bazar','Electronic Gadget', 'Cafe','Service','Restaurants', 'Malls','Telephone' ]\n",
    "    bill = final_text.split()\n",
    "    billType = difflib.get_close_matches(bill, Categories)\n",
    "    matched_category = []\n",
    "    remove_lst = [[]]\n",
    "    for word in bill:\n",
    "        extract = difflib.get_close_matches(word.lower(), Categories)\n",
    "        matched_category.append(extract)\n",
    "\n",
    "    res = [i for i in matched_category if i not in remove_lst]\n",
    "    return res[0][0]\n",
    "txn_category = get_category(final_text)\n",
    "txn_category"
   ]
  },
  {
   "cell_type": "code",
   "execution_count": 15,
   "id": "059cbded",
   "metadata": {},
   "outputs": [
    {
     "data": {
      "text/plain": [
       "['32605124626145398',\n",
       " '27620241762',\n",
       " '009742',\n",
       " '0',\n",
       " '0',\n",
       " '09072015',\n",
       " '3990',\n",
       " '7518',\n",
       " '30000',\n",
       " '30000',\n",
       " '276302417620',\n",
       " '072758',\n",
       " '9']"
      ]
     },
     "execution_count": 15,
     "metadata": {},
     "output_type": "execute_result"
    }
   ],
   "source": [
    "lst_numbers(final_text)"
   ]
  },
  {
   "cell_type": "code",
   "execution_count": 47,
   "id": "9525221d",
   "metadata": {},
   "outputs": [],
   "source": [
    "# Create object\n",
    "root = Tk()\n",
    "root.title('Confirm')\n",
    "# Adjust size\n",
    "root.geometry( \"300x300\" )\n",
    "\n",
    "#     label.config( text = clicked.get() )\n",
    "#     print(text)\n",
    "amount = 0\n",
    "\n",
    "def display_selected():\n",
    "    global amount \n",
    "    # Change the label text\n",
    "    label.config( text = clicked.get() )\n",
    "    amount = clicked.get()\n",
    "  \n",
    "# Dropdown menu options\n",
    "options = lst_numbers(final_text)\n",
    "  \n",
    "T = Text(root, height = 4, width = 52)\n",
    "T.pack()\n",
    "T.insert(tk.END, Fact)\n",
    "# datatype of menu text\n",
    "clicked = StringVar()\n",
    "sv = options[0]\n",
    "# initial menu text\n",
    "clicked.set( options[0] )\n",
    "  \n",
    "# Create Dropdown menu\n",
    "drop = OptionMenu( root , clicked , *options )\n",
    "drop.pack()\n",
    "\n",
    "Fact = \"Multiple numericals detected. Please select the total amount of the bill\"\n",
    "# Create button, it will change label text\n",
    "button = Button( root , text = \"ok\" , command = display_selected).pack()\n",
    "\n",
    "b2 = Button(root, text = \"Exit\",\n",
    "            command = root.destroy).pack() \n",
    " \n",
    "# Create Label\n",
    "label = Label( root , text = \" \" )\n",
    "label.pack()\n",
    "# Execute tkinter\n",
    "root.mainloop()"
   ]
  },
  {
   "cell_type": "code",
   "execution_count": 49,
   "id": "9bc84960",
   "metadata": {},
   "outputs": [],
   "source": [
    "def find_dates(input):\n",
    "\n",
    "    date_formats = [ \n",
    "                # Matches date format MM/DD/YYYY\n",
    "                '(\\d{2}\\/\\d{2}\\/\\d{4})',\n",
    "\n",
    "                # Matches date format MM-DD-YYYY\n",
    "                '(\\d{2}-\\d{2}-\\d{4})',\n",
    "\n",
    "                # Matches date format YYYY/MM/DD\n",
    "                '(\\d{4}\\/\\d{1,2}\\/\\d{1,2})',\n",
    "\n",
    "                # Matches ISO 8601 format (YYYY-MM-DD)\n",
    "                '(\\d{4}-\\d{1,2}-\\d{1,2})',\n",
    "\n",
    "\n",
    "                # Matches full_month_name dd, YYYY or full_month_name dd[suffixes], YYYY\n",
    "                '(January|February|March|April|May|June|July|August|September|October|November|December)(\\s\\d{1,2}\\W\\s\\d{4}|\\s\\d(st|nd|rd|th)\\W\\s\\d{4})',\n",
    "\n",
    "                # Matches abbreviated_month_name dd, YYYY or abbreviated_month_name dd[suffixes], YYYY\n",
    "                '(Jan|Feb|Mar|Apr|May|Jun|Jul|Aug|Sept|Oct|Nov|Dec)(\\s\\d{1,2}\\W\\s\\d{4}|\\s\\d(st|nd|rd|th)\\W\\s\\d{4})',\n",
    "\n",
    "                # Matches ISO 8601 format with time and time zone\n",
    "                # yyyy-mm-ddThh:mm:ss.nnnnnn+|-hh:mm\n",
    "                '\\d{4}-\\d{2}-\\d{2}T\\d{2}:\\d{2}:\\d{2}(\\+|-)\\d{2}:\\d{2}',\n",
    "\n",
    "\n",
    "                # Matches ISO 8601 format Datetime with timezone\n",
    "                # yyyymmddThhmmss+|-hhmm\n",
    "                '\\d{8}T\\d{6}(\\+|-)\\d{4}' , \n",
    "\n",
    "                ''\n",
    "                ]\n",
    "\n",
    "    for item in date_formats:\n",
    "        date_format = re.compile(r'\\b{}\\b'.format(item), re.IGNORECASE|re.MULTILINE)\n",
    "        find_date = re.search(date_format, input)\n",
    "\n",
    "        if find_date:\n",
    "            return find_date.group(0)\n",
    "\n",
    "\n",
    "\n",
    "txn_date = find_dates(final_text)"
   ]
  },
  {
   "cell_type": "code",
   "execution_count": 48,
   "id": "3d2058b7",
   "metadata": {},
   "outputs": [],
   "source": [
    "# if file does not exist write header \n",
    "csv_file_name = './report/budget_report.csv'\n",
    "column_names = ['date', 'category', 'total_bill']\n",
    "\n",
    "df = pd.DataFrame(columns=column_names)\n",
    "\n",
    "row_value = {'date': txn_date , 'category': txn_category, 'total_bill': amount}\n",
    "\n",
    "df = df.append(row_value, ignore_index = True)\n",
    "\n",
    "df.to_csv(csv_file_name, mode='a', header=False, index = False)\n"
   ]
  }
 ],
 "metadata": {
  "kernelspec": {
   "display_name": "Python 3",
   "language": "python",
   "name": "python3"
  },
  "language_info": {
   "codemirror_mode": {
    "name": "ipython",
    "version": 3
   },
   "file_extension": ".py",
   "mimetype": "text/x-python",
   "name": "python",
   "nbconvert_exporter": "python",
   "pygments_lexer": "ipython3",
   "version": "3.6.9"
  }
 },
 "nbformat": 4,
 "nbformat_minor": 5
}
